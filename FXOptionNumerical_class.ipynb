{
 "cells": [
  {
   "cell_type": "code",
   "execution_count": 118,
   "metadata": {
    "collapsed": false
   },
   "outputs": [],
   "source": [
    "import math\n",
    "from datetime import date\n",
    "import numpy as np\n",
    "\n",
    "'''base class with standard market inputs'''\n",
    "class FXOptionNumerical(object): \n",
    "    \n",
    "    #def __init__(self, CallPutFlag, S, K, sigma,  rFor, rDom, dateEnd, N, params, notional, premConvention):\n",
    "    def __init__(self, S, K,   rFor, rDom, dateEnd, N, params, notional, premConvention):\n",
    "      \n",
    "        #date format: date(2017, 6, 30)\n",
    "        \n",
    "        #constructors \n",
    "        \n",
    "        #self.CallPutFlag = CallPutFlag #pass it as dictionary element below\n",
    "        self.S = S\n",
    "        self.K = K\n",
    "        #self.sigma = sigma  #pass it as dictionary element below\n",
    "        self.rFor = rFor\n",
    "        self.rDom = rDom\n",
    "        \n",
    "        ###-------------------------------------\n",
    "        # Convert date to unit of years\n",
    "        ###--------------------------------\n",
    "  \n",
    "        self.dateEnd = dateEnd\n",
    "        today = date.today()\n",
    "        self.Tau = (self.dateEnd - today).days / 365.0\n",
    "\n",
    "        if self.Tau == 0:\n",
    "            raise ValueError('Option Expired')\n",
    "            \n",
    "        print('Time is :'+str(self.Tau)) #sanity check\n",
    "        \n",
    "        self.N = max(1, N)  #timesteps\n",
    "        self.STs = None\n",
    "        \n",
    "        self.notional = notional\n",
    "        self.premConvention = premConvention\n",
    "        #derived params\n",
    "        \n",
    "        self.pu = params.get('pu', 0)\n",
    "        self.pd = params.get('pd', 0)\n",
    "        self.sigma = params.get('sigma', 0.001)\n",
    "        self.is_call = params.get('is_call', True)\n",
    "        self.is_european = params.get('is_eu', True)\n",
    "    \n",
    "        self.dt = self.Tau / float(N)\n",
    "        self.df = math.exp(-(rDom - rFor) * self.dt)\n",
    "\n",
    "###===============================================     \n",
    "#implementation of tree inheriting from base class\n",
    "###================================================\n",
    "\n",
    "class BinomialTree(FXOptionNumerical):\n",
    "    \n",
    "    def _setup_parameters_(self):\n",
    "        \n",
    "        #volatility adjusted path\n",
    "        #self.u = 1 + self.pu\n",
    "        self.u = math.exp(self.sigma * pow(self.dt,0.5))\n",
    "\n",
    "        #self.d = 1 - self.pd\n",
    "        self.d = math.exp(-self.sigma * pow(self.dt, 0.5))\n",
    "        \n",
    "        #risk neutra probabilities\n",
    "        self.qu  = (math.exp((self.rDom - self.rFor) * self.dt) - self.d)/(self.u -self.d)\n",
    "        #print(self.qu)\n",
    "        self.qd = 1 - self.qu\n",
    "    \n",
    "    #forward propagation \n",
    "    def _initialize_underlying_tree_(self):\n",
    "        \n",
    "        #tree's starting point is today, setup as numpy array \n",
    "        self.STs = [np.array([self.S])]  \n",
    "        \n",
    "        for i in range(self.N):\n",
    "            branch = self.STs[i]\n",
    "            #at 2nd node have 2 prices: multiply 2 by pu, and last one by pd\n",
    "            #at 3rd node have 3 prices: multiply 3 by pu, and last one by pd ..and so forth\n",
    "            next_branch = np.concatenate((branch* self.u, [branch[-1] * self.d]))  #merge two arrays\n",
    "            self.STs.append(next_branch) \n",
    "                    \n",
    "    #check payoff at final leg\n",
    "    def _initialize_payoffs_tree_(self):\n",
    "        \n",
    "        return np.maximum(0, (self.STs[self.N]-self.K) if self.is_call\n",
    "            else (self.K-self.STs[self.N]))\n",
    "    \n",
    "    def __check_early_exercise__(self, payoffs, node):\n",
    "    \n",
    "        early_ex_payoff = (self.STs[node] - self.K) if self.is_call \\\n",
    "            else (self.K - self.STs[node])\n",
    "        #print('node ' +str(node))\n",
    "        #print(early_ex_payoff)\n",
    "        return np.maximum(early_ex_payoff, payoffs )\n",
    "        \n",
    "    #backward induction \n",
    "    def _traverse_tree_(self, payoffs):\n",
    "        \n",
    "        for i in reversed(range(self.N)):\n",
    "            # The payoffs from NOT exercising the option\n",
    "            payoffs = (payoffs[:-1] * self.qu +\n",
    "                           payoffs[1:] * self.qd) * self.df\n",
    "\n",
    "            # Payoffs from exercising, for American options\n",
    "            if not self.is_european:\n",
    "                payoffs = self.__check_early_exercise__(payoffs, i)\n",
    "\n",
    "        return payoffs\n",
    "    \n",
    "    def __begin_traverse__(self):\n",
    "        payoffs = self._initialize_payoffs_tree_()\n",
    "        return self._traverse_tree_(payoffs)\n",
    "    \n",
    "    def price(self):\n",
    "        self._setup_parameters_()\n",
    "        self._initialize_underlying_tree_()\n",
    "        payoffs = self.__begin_traverse__()\n",
    "        price = payoffs[0]*self.notional / self.S\n",
    "        return price"
   ]
  },
  {
   "cell_type": "code",
   "execution_count": 122,
   "metadata": {
    "collapsed": false,
    "scrolled": true
   },
   "outputs": [
    {
     "name": "stdout",
     "output_type": "stream",
     "text": [
      "Time is :0.5780821917808219\n"
     ]
    },
    {
     "data": {
      "text/plain": [
       "106080.3765590871"
      ]
     },
     "execution_count": 122,
     "metadata": {},
     "output_type": "execute_result"
    }
   ],
   "source": [
    "fxo_european = BinomialTree(S = 106.60, \n",
    "                  K = 109,  \n",
    "                  rFor = 0.01788, \n",
    "                  rDom = -0.00818, \n",
    "                  dateEnd = date(2018, 9, 28),\n",
    "                  N = 1000, \n",
    "                  params = {'pu': 0, 'pd': 0, 'sigma' : 0.0815, 'is_call': True, 'is_eu': True},\n",
    "                  notional = 10000000,\n",
    "                  premConvention = '')\n",
    "fxo_european.price()"
   ]
  },
  {
   "cell_type": "code",
   "execution_count": 126,
   "metadata": {
    "collapsed": false
   },
   "outputs": [
    {
     "name": "stdout",
     "output_type": "stream",
     "text": [
      "Time is :0.5780821917808219\n"
     ]
    },
    {
     "data": {
      "text/plain": [
       "112593.41276087683"
      ]
     },
     "execution_count": 126,
     "metadata": {},
     "output_type": "execute_result"
    }
   ],
   "source": [
    "fxo_american = BinomialTree(S = 106.60, \n",
    "                  K = 109,  \n",
    "                  rFor = 0.01788, \n",
    "                  rDom = -0.0082, \n",
    "                  dateEnd = date(2018, 9, 28),\n",
    "                  N = 1000,\n",
    "                  params = {'pu': 0, 'pd': 0, 'sigma' : 0.0815, 'is_call': True, 'is_eu': False},\n",
    "                  notional = 10000000,\n",
    "                  premConvention = '')\n",
    "fxo_american.price()"
   ]
  },
  {
   "cell_type": "code",
   "execution_count": 69,
   "metadata": {
    "collapsed": false
   },
   "outputs": [
    {
     "data": {
      "text/plain": [
       "144615.38461538462"
      ]
     },
     "execution_count": 69,
     "metadata": {},
     "output_type": "execute_result"
    }
   ],
   "source": [
    "500000*1.88 / 6.5"
   ]
  },
  {
   "cell_type": "code",
   "execution_count": null,
   "metadata": {
    "collapsed": true
   },
   "outputs": [],
   "source": []
  }
 ],
 "metadata": {
  "kernelspec": {
   "display_name": "Python 3",
   "language": "python",
   "name": "python3"
  },
  "language_info": {
   "codemirror_mode": {
    "name": "ipython",
    "version": 3
   },
   "file_extension": ".py",
   "mimetype": "text/x-python",
   "name": "python",
   "nbconvert_exporter": "python",
   "pygments_lexer": "ipython3",
   "version": "3.5.1"
  }
 },
 "nbformat": 4,
 "nbformat_minor": 0
}
